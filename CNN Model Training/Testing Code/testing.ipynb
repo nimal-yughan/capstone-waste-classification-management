{
 "cells": [
  {
   "cell_type": "code",
   "execution_count": 1,
   "metadata": {},
   "outputs": [],
   "source": [
    "import numpy as np\n",
    "import tensorflow as tf\n",
    "from tensorflow import keras\n",
    "from tensorflow.keras.preprocessing.image import ImageDataGenerator\n",
    "from tensorflow.keras.models import load_model\n",
    "from tensorflow.keras.preprocessing.image import load_img, img_to_array"
   ]
  },
  {
   "cell_type": "code",
   "execution_count": 28,
   "metadata": {},
   "outputs": [],
   "source": [
    "test_generator = ImageDataGenerator(preprocessing_function=tf.keras.applications.vgg16.preprocess_input)"
   ]
  },
  {
   "cell_type": "code",
   "execution_count": 29,
   "metadata": {},
   "outputs": [
    {
     "name": "stdout",
     "output_type": "stream",
     "text": [
      "Found 205 images belonging to 7 classes.\n"
     ]
    }
   ],
   "source": [
    "test_data_dir='Test-Waste'\n",
    "class_subset=['cardboard', 'ewaste', 'glass', 'metal','organic', 'paper', 'plastic']\n",
    "testgen = test_generator.flow_from_directory(test_data_dir,\n",
    "                                             target_size=(224, 224),\n",
    "                                             class_mode=None,\n",
    "                                             classes=class_subset,\n",
    "                                             batch_size=1,\n",
    "                                             shuffle=False,\n",
    "                                             seed=42)"
   ]
  },
  {
   "cell_type": "code",
   "execution_count": 4,
   "metadata": {},
   "outputs": [
    {
     "name": "stdout",
     "output_type": "stream",
     "text": [
      "{0: 'cardboard', 1: 'ewaste', 2: 'glass', 3: 'metal', 4: 'organic', 5: 'paper', 6: 'plastic'}\n"
     ]
    }
   ],
   "source": [
    "class_indices = testgen.class_indices\n",
    "class_indices = dict((v,k) for k,v in class_indices.items())\n",
    "print(class_indices)"
   ]
  },
  {
   "cell_type": "code",
   "execution_count": 5,
   "metadata": {},
   "outputs": [],
   "source": [
    "#model_path = 'Dense_1_f.h5'\n",
    "#model=load_model(model_path,compile=False)"
   ]
  },
  {
   "cell_type": "code",
   "execution_count": 6,
   "metadata": {},
   "outputs": [],
   "source": [
    "#test_labels = testgen.classes\n",
    "#predictions = model.predict_generator(testgen, steps=205, verbose=1)"
   ]
  },
  {
   "cell_type": "code",
   "execution_count": 7,
   "metadata": {},
   "outputs": [],
   "source": [
    "#print(predictions.argmax(axis=1))"
   ]
  },
  {
   "cell_type": "markdown",
   "metadata": {},
   "source": [
    "Testing: VGG"
   ]
  },
  {
   "cell_type": "markdown",
   "metadata": {},
   "source": [
    "Name: vgg16_b32_f.h5"
   ]
  },
  {
   "cell_type": "code",
   "execution_count": 8,
   "metadata": {},
   "outputs": [],
   "source": [
    "true_classes = testgen.classes"
   ]
  },
  {
   "cell_type": "code",
   "execution_count": 9,
   "metadata": {},
   "outputs": [],
   "source": [
    "model_path = 'vgg16_b32_f.h5'\n",
    "model = load_model(model_path)"
   ]
  },
  {
   "cell_type": "code",
   "execution_count": 10,
   "metadata": {},
   "outputs": [],
   "source": [
    "from sklearn.metrics import accuracy_score"
   ]
  },
  {
   "cell_type": "code",
   "execution_count": 11,
   "metadata": {},
   "outputs": [],
   "source": [
    "vgg_preds = model.predict(testgen)\n",
    "vgg_pred_classes = np.argmax(vgg_preds, axis=1)"
   ]
  },
  {
   "cell_type": "code",
   "execution_count": 12,
   "metadata": {},
   "outputs": [
    {
     "name": "stdout",
     "output_type": "stream",
     "text": [
      "VGG16 Model 1 Accuracy without Fine-Tuning: 96.59%\n"
     ]
    }
   ],
   "source": [
    "vgg_acc = accuracy_score(true_classes, vgg_pred_classes)\n",
    "print(\"VGG16 Model 1 Accuracy without Fine-Tuning: {:.2f}%\".format(vgg_acc * 100))"
   ]
  },
  {
   "cell_type": "markdown",
   "metadata": {},
   "source": [
    "Name: vgg16_b16_f.h5"
   ]
  },
  {
   "cell_type": "code",
   "execution_count": 13,
   "metadata": {},
   "outputs": [],
   "source": [
    "model_path2 = 'vgg16_b16_f.h5'\n",
    "model2 = load_model(model_path2)"
   ]
  },
  {
   "cell_type": "code",
   "execution_count": 14,
   "metadata": {},
   "outputs": [],
   "source": [
    "vgg_preds2 = model2.predict(testgen)\n",
    "vgg_pred_classes2 = np.argmax(vgg_preds2, axis=1)"
   ]
  },
  {
   "cell_type": "code",
   "execution_count": 15,
   "metadata": {},
   "outputs": [
    {
     "name": "stdout",
     "output_type": "stream",
     "text": [
      "VGG16 Model 2 Accuracy without Fine-Tuning: 86.83%\n"
     ]
    }
   ],
   "source": [
    "vgg_acc2 = accuracy_score(true_classes, vgg_pred_classes2)\n",
    "print(\"VGG16 Model 2 Accuracy without Fine-Tuning: {:.2f}%\".format(vgg_acc2 * 100))"
   ]
  },
  {
   "cell_type": "markdown",
   "metadata": {},
   "source": [
    "Name: vgg16_b32_t.h5"
   ]
  },
  {
   "cell_type": "code",
   "execution_count": 16,
   "metadata": {},
   "outputs": [],
   "source": [
    "model_path3 = 'vgg16_b32_t.h5'\n",
    "model3 = load_model(model_path3)"
   ]
  },
  {
   "cell_type": "code",
   "execution_count": 17,
   "metadata": {},
   "outputs": [],
   "source": [
    "vgg_preds3 = model3.predict(testgen)\n",
    "vgg_pred_classes3 = np.argmax(vgg_preds3, axis=1)"
   ]
  },
  {
   "cell_type": "code",
   "execution_count": 20,
   "metadata": {},
   "outputs": [
    {
     "name": "stdout",
     "output_type": "stream",
     "text": [
      "VGG16 Model 3 Accuracy with Base Model Trainable: 85.37%\n"
     ]
    }
   ],
   "source": [
    "vgg_acc3 = accuracy_score(true_classes, vgg_pred_classes3)\n",
    "print(\"VGG16 Model 3 Accuracy with Base Model Trainable: {:.2f}%\".format(vgg_acc3 * 100))"
   ]
  },
  {
   "cell_type": "code",
   "execution_count": 13,
   "metadata": {},
   "outputs": [],
   "source": [
    "import seaborn as sns\n",
    "from sklearn.metrics import confusion_matrix"
   ]
  },
  {
   "cell_type": "code",
   "execution_count": 24,
   "metadata": {},
   "outputs": [
    {
     "name": "stdout",
     "output_type": "stream",
     "text": [
      "dict_keys(['cardboard', 'ewaste', 'glass', 'metal', 'organic', 'paper', 'plastic'])\n"
     ]
    }
   ],
   "source": [
    "class_names = testgen.class_indices.keys()\n",
    "print(class_names)"
   ]
  },
  {
   "cell_type": "code",
   "execution_count": 25,
   "metadata": {},
   "outputs": [],
   "source": [
    "def plot_heatmap(y_true, y_pred, class_names, ax, title):\n",
    "    cm = confusion_matrix(y_true, y_pred)\n",
    "    sns.heatmap(\n",
    "        cm, \n",
    "        annot=True, \n",
    "        square=True, \n",
    "        xticklabels=class_names, \n",
    "        yticklabels=class_names,\n",
    "        fmt='d', \n",
    "        cmap=plt.cm.Blues,\n",
    "        cbar=False,\n",
    "        ax=ax\n",
    "    )\n",
    "    ax.set_title(title, fontsize=16)\n",
    "    ax.set_xticklabels(ax.get_xticklabels(), rotation=45, ha=\"right\")\n",
    "    ax.set_ylabel('True Label', fontsize=12)\n",
    "    ax.set_xlabel('Predicted Label', fontsize=12)"
   ]
  },
  {
   "cell_type": "code",
   "execution_count": 29,
   "metadata": {},
   "outputs": [
    {
     "data": {
      "image/png": "[encoded data removed]",
      "text/plain": [
       "<Figure size 1440x720 with 3 Axes>"
      ]
     },
     "metadata": {
      "needs_background": "light"
     },
     "output_type": "display_data"
    }
   ],
   "source": [
    "import matplotlib.pyplot as plt\n",
    "fig, (ax1, ax2, ax3) = plt.subplots(1, 3, figsize=(20, 10))\n",
    "plot_heatmap(true_classes, vgg_pred_classes, class_names, ax1, title=\"VGG16 Model 1: No Fine Tuning\")    \n",
    "plot_heatmap(true_classes, vgg_pred_classes2, class_names, ax2, title=\"VGG16 Model 2: No Fine-Tuning\")    \n",
    "plot_heatmap(true_classes, vgg_pred_classes3, class_names, ax3, title=\"VGG16 Model 3: Unfreezing base model\")    \n",
    "\n",
    "fig.suptitle(\"Confusion Matrix: VGG Model Comparison\", fontsize=24)\n",
    "fig.tight_layout()\n",
    "fig.subplots_adjust(top=1)\n",
    "plt.show()"
   ]
  },
  {
   "cell_type": "markdown",
   "metadata": {},
   "source": [
    "Testing 2: ResNet50v2"
   ]
  },
  {
   "cell_type": "code",
   "execution_count": 2,
   "metadata": {},
   "outputs": [],
   "source": [
    "test_generator = ImageDataGenerator(preprocessing_function=tf.keras.applications.resnet_v2.preprocess_input)"
   ]
  },
  {
   "cell_type": "code",
   "execution_count": 3,
   "metadata": {},
   "outputs": [
    {
     "name": "stdout",
     "output_type": "stream",
     "text": [
      "Found 205 images belonging to 7 classes.\n"
     ]
    }
   ],
   "source": [
    "test_data_dir='Test-Waste'\n",
    "class_subset=['cardboard', 'ewaste', 'glass', 'metal','organic', 'paper', 'plastic']\n",
    "testgen = test_generator.flow_from_directory(test_data_dir,\n",
    "                                             target_size=(224, 224),\n",
    "                                             class_mode=None,\n",
    "                                             classes=class_subset,\n",
    "                                             batch_size=1,\n",
    "                                             shuffle=False,\n",
    "                                             seed=42)"
   ]
  },
  {
   "cell_type": "code",
   "execution_count": 4,
   "metadata": {},
   "outputs": [
    {
     "name": "stdout",
     "output_type": "stream",
     "text": [
      "{0: 'cardboard', 1: 'ewaste', 2: 'glass', 3: 'metal', 4: 'organic', 5: 'paper', 6: 'plastic'}\n"
     ]
    }
   ],
   "source": [
    "class_indices = testgen.class_indices\n",
    "class_indices = dict((v,k) for k,v in class_indices.items())\n",
    "print(class_indices)"
   ]
  },
  {
   "cell_type": "code",
   "execution_count": 5,
   "metadata": {},
   "outputs": [],
   "source": [
    "true_classes = testgen.classes"
   ]
  },
  {
   "cell_type": "code",
   "execution_count": 6,
   "metadata": {},
   "outputs": [],
   "source": [
    "model_path = 'resnet_1_f.h5'\n",
    "model = load_model(model_path)"
   ]
  },
  {
   "cell_type": "code",
   "execution_count": 7,
   "metadata": {},
   "outputs": [],
   "source": [
    "from sklearn.metrics import accuracy_score"
   ]
  },
  {
   "cell_type": "code",
   "execution_count": 8,
   "metadata": {},
   "outputs": [],
   "source": [
    "res_preds = model.predict(testgen)\n",
    "res_pred_classes = np.argmax(res_preds, axis=1)"
   ]
  },
  {
   "cell_type": "code",
   "execution_count": 9,
   "metadata": {},
   "outputs": [
    {
     "name": "stdout",
     "output_type": "stream",
     "text": [
      "ResNet50v2 Model 1 Accuracy without Fine-Tuning: 77.07%\n"
     ]
    }
   ],
   "source": [
    "res_acc = accuracy_score(true_classes, res_pred_classes)\n",
    "print(\"ResNet50v2 Model 1 Accuracy without Fine-Tuning: {:.2f}%\".format(res_acc * 100))"
   ]
  },
  {
   "cell_type": "code",
   "execution_count": 10,
   "metadata": {},
   "outputs": [],
   "source": [
    "model_path2 = 'resnet_1_t.h5'\n",
    "model2 = load_model(model_path2)"
   ]
  },
  {
   "cell_type": "code",
   "execution_count": 11,
   "metadata": {},
   "outputs": [],
   "source": [
    "res_preds2 = model2.predict(testgen)\n",
    "res_pred_classes2 = np.argmax(res_preds2, axis=1)"
   ]
  },
  {
   "cell_type": "code",
   "execution_count": 13,
   "metadata": {},
   "outputs": [
    {
     "name": "stdout",
     "output_type": "stream",
     "text": [
      "ResNet50v2 Model 1 Accuracy with Fine-Tuning: 81.46%\n"
     ]
    }
   ],
   "source": [
    "res_acc2 = accuracy_score(true_classes, res_pred_classes2)\n",
    "print(\"ResNet50v2 Model 1 Accuracy with Fine-Tuning: {:.2f}%\".format(res_acc2 * 100))"
   ]
  },
  {
   "cell_type": "code",
   "execution_count": 14,
   "metadata": {},
   "outputs": [
    {
     "name": "stdout",
     "output_type": "stream",
     "text": [
      "dict_keys(['cardboard', 'ewaste', 'glass', 'metal', 'organic', 'paper', 'plastic'])\n"
     ]
    }
   ],
   "source": [
    "import seaborn as sns\n",
    "from sklearn.metrics import confusion_matrix\n",
    "class_names = testgen.class_indices.keys()\n",
    "print(class_names)"
   ]
  },
  {
   "cell_type": "code",
   "execution_count": 21,
   "metadata": {},
   "outputs": [],
   "source": [
    "def plot_heatmap(y_true, y_pred, class_names, ax, title):\n",
    "    cm = confusion_matrix(y_true, y_pred)\n",
    "    sns.heatmap(\n",
    "        cm, \n",
    "        annot=True, \n",
    "        square=True, \n",
    "        xticklabels=class_names, \n",
    "        yticklabels=class_names,\n",
    "        fmt='d', \n",
    "        cmap=plt.cm.Blues,\n",
    "        cbar=False,\n",
    "        ax=ax\n",
    "    )\n",
    "    ax.set_title(title, fontsize=10)\n",
    "    ax.set_xticklabels(ax.get_xticklabels(), rotation=45, ha=\"right\")\n",
    "    ax.set_ylabel('True Label', fontsize=12)\n",
    "    ax.set_xlabel('Predicted Label', fontsize=12)"
   ]
  },
  {
   "cell_type": "code",
   "execution_count": 29,
   "metadata": {},
   "outputs": [
    {
     "data": {
      "image/png": "[encoded data removed]",
      "text/plain": [
       "<Figure size 720x360 with 2 Axes>"
      ]
     },
     "metadata": {
      "needs_background": "light"
     },
     "output_type": "display_data"
    }
   ],
   "source": [
    "import matplotlib.pyplot as plt\n",
    "fig, (ax1, ax2) = plt.subplots(1, 2, figsize=(10, 5))\n",
    "plot_heatmap(true_classes, res_pred_classes, class_names, ax1, title=\"ResNet50v2 Model: No Fine Tuning\")    \n",
    "plot_heatmap(true_classes, res_pred_classes2, class_names, ax2, title=\"ResNet50v2 Model: Fine-Tuned\")     \n",
    "\n",
    "fig.suptitle(\"Confusion Matrix: ResNet50v2 Model Comparison\", fontsize=12)\n",
    "fig.tight_layout()\n",
    "fig.subplots_adjust(top=0.8)\n",
    "plt.show()"
   ]
  },
  {
   "cell_type": "markdown",
   "metadata": {},
   "source": [
    "Testing 3: DenseNet121"
   ]
  },
  {
   "cell_type": "code",
   "execution_count": 33,
   "metadata": {},
   "outputs": [],
   "source": [
    "test_generator = ImageDataGenerator(preprocessing_function=tf.keras.applications.densenet.preprocess_input)"
   ]
  },
  {
   "cell_type": "code",
   "execution_count": 34,
   "metadata": {},
   "outputs": [
    {
     "name": "stdout",
     "output_type": "stream",
     "text": [
      "Found 205 images belonging to 7 classes.\n"
     ]
    }
   ],
   "source": [
    "test_data_dir='Test-Waste'\n",
    "class_subset=['cardboard', 'ewaste', 'glass', 'metal','organic', 'paper', 'plastic']\n",
    "testgen = test_generator.flow_from_directory(test_data_dir,\n",
    "                                             target_size=(224, 224),\n",
    "                                             class_mode=None,\n",
    "                                             classes=class_subset,\n",
    "                                             batch_size=1,\n",
    "                                             shuffle=False,\n",
    "                                             seed=42)"
   ]
  },
  {
   "cell_type": "code",
   "execution_count": 4,
   "metadata": {},
   "outputs": [
    {
     "name": "stdout",
     "output_type": "stream",
     "text": [
      "{0: 'cardboard', 1: 'ewaste', 2: 'glass', 3: 'metal', 4: 'organic', 5: 'paper', 6: 'plastic'}\n"
     ]
    }
   ],
   "source": [
    "true_classes = testgen.classes\n",
    "class_indices = testgen.class_indices\n",
    "class_indices = dict((v,k) for k,v in class_indices.items())\n",
    "print(class_indices)"
   ]
  },
  {
   "cell_type": "code",
   "execution_count": 5,
   "metadata": {},
   "outputs": [],
   "source": [
    "model_path = 'Dense_1_f.h5'\n",
    "model = load_model(model_path)"
   ]
  },
  {
   "cell_type": "code",
   "execution_count": 6,
   "metadata": {},
   "outputs": [],
   "source": [
    "from sklearn.metrics import accuracy_score"
   ]
  },
  {
   "cell_type": "code",
   "execution_count": 7,
   "metadata": {},
   "outputs": [],
   "source": [
    "dense_preds = model.predict(testgen)\n",
    "dense_pred_classes = np.argmax(dense_preds, axis=1)"
   ]
  },
  {
   "cell_type": "code",
   "execution_count": 8,
   "metadata": {},
   "outputs": [
    {
     "name": "stdout",
     "output_type": "stream",
     "text": [
      "DenseNet Model Accuracy without Fine-Tuning: 84.39%\n"
     ]
    }
   ],
   "source": [
    "dense_acc = accuracy_score(true_classes, dense_pred_classes)\n",
    "print(\"DenseNet Model Accuracy without Fine-Tuning: {:.2f}%\".format(dense_acc * 100))"
   ]
  },
  {
   "cell_type": "code",
   "execution_count": 9,
   "metadata": {},
   "outputs": [],
   "source": [
    "model_path2 = 'Dense_1_t.h5'\n",
    "model2 = load_model(model_path2)"
   ]
  },
  {
   "cell_type": "code",
   "execution_count": 10,
   "metadata": {},
   "outputs": [],
   "source": [
    "dense_preds2 = model2.predict(testgen)\n",
    "dense_pred_classes2 = np.argmax(dense_preds2, axis=1)"
   ]
  },
  {
   "cell_type": "code",
   "execution_count": 11,
   "metadata": {},
   "outputs": [
    {
     "name": "stdout",
     "output_type": "stream",
     "text": [
      "DenseNet Model Accuracy with Fine-Tuning: 87.32%\n"
     ]
    }
   ],
   "source": [
    "dense_acc2 = accuracy_score(true_classes, dense_pred_classes2)\n",
    "print(\"DenseNet Model Accuracy with Fine-Tuning: {:.2f}%\".format(dense_acc2 * 100))"
   ]
  },
  {
   "cell_type": "code",
   "execution_count": 12,
   "metadata": {},
   "outputs": [],
   "source": [
    "def plot_heatmap(y_true, y_pred, class_names, ax, title):\n",
    "    cm = confusion_matrix(y_true, y_pred)\n",
    "    sns.heatmap(\n",
    "        cm, \n",
    "        annot=True, \n",
    "        square=True, \n",
    "        xticklabels=class_names, \n",
    "        yticklabels=class_names,\n",
    "        fmt='d', \n",
    "        cmap=plt.cm.Blues,\n",
    "        cbar=False,\n",
    "        ax=ax\n",
    "    )\n",
    "    ax.set_title(title, fontsize=10)\n",
    "    ax.set_xticklabels(ax.get_xticklabels(), rotation=45, ha=\"right\")\n",
    "    ax.set_ylabel('True Label', fontsize=12)\n",
    "    ax.set_xlabel('Predicted Label', fontsize=12)"
   ]
  },
  {
   "cell_type": "code",
   "execution_count": 15,
   "metadata": {},
   "outputs": [
    {
     "name": "stdout",
     "output_type": "stream",
     "text": [
      "dict_keys(['cardboard', 'ewaste', 'glass', 'metal', 'organic', 'paper', 'plastic'])\n"
     ]
    }
   ],
   "source": [
    "import seaborn as sns\n",
    "from sklearn.metrics import confusion_matrix\n",
    "class_names = testgen.class_indices.keys()\n",
    "print(class_names)"
   ]
  },
  {
   "cell_type": "code",
   "execution_count": 16,
   "metadata": {},
   "outputs": [
    {
     "data": {
      "image/png": "[encoded data removed]",
      "text/plain": [
       "<Figure size 720x360 with 2 Axes>"
      ]
     },
     "metadata": {
      "needs_background": "light"
     },
     "output_type": "display_data"
    }
   ],
   "source": [
    "import matplotlib.pyplot as plt\n",
    "fig, (ax1, ax2) = plt.subplots(1, 2, figsize=(10, 5))\n",
    "plot_heatmap(true_classes, dense_pred_classes, class_names, ax1, title=\"DenseNet121 Model: No Fine Tuning\")    \n",
    "plot_heatmap(true_classes, dense_pred_classes2, class_names, ax2, title=\"DenseNet121 Model: Fine-Tuned\")     \n",
    "\n",
    "fig.suptitle(\"Confusion Matrix: DenseNet121 Model Comparison\", fontsize=12)\n",
    "fig.tight_layout()\n",
    "fig.subplots_adjust(top=0.8)\n",
    "plt.show()"
   ]
  },
  {
   "cell_type": "markdown",
   "metadata": {},
   "source": [
    "Testing 4: Inceptionv3"
   ]
  },
  {
   "cell_type": "code",
   "execution_count": 44,
   "metadata": {},
   "outputs": [],
   "source": [
    "test_generator = ImageDataGenerator(preprocessing_function=tf.keras.applications.inception_v3.preprocess_input)"
   ]
  },
  {
   "cell_type": "code",
   "execution_count": 45,
   "metadata": {},
   "outputs": [
    {
     "name": "stdout",
     "output_type": "stream",
     "text": [
      "Found 205 images belonging to 7 classes.\n"
     ]
    }
   ],
   "source": [
    "test_data_dir='Test-Waste'\n",
    "class_subset=['cardboard', 'ewaste', 'glass', 'metal','organic', 'paper', 'plastic']\n",
    "testgen = test_generator.flow_from_directory(test_data_dir,\n",
    "                                             target_size=(224, 224),\n",
    "                                             class_mode=None,\n",
    "                                             classes=class_subset,\n",
    "                                             batch_size=1,\n",
    "                                             shuffle=False,\n",
    "                                             seed=42)"
   ]
  },
  {
   "cell_type": "code",
   "execution_count": 4,
   "metadata": {},
   "outputs": [
    {
     "name": "stdout",
     "output_type": "stream",
     "text": [
      "{0: 'cardboard', 1: 'ewaste', 2: 'glass', 3: 'metal', 4: 'organic', 5: 'paper', 6: 'plastic'}\n"
     ]
    }
   ],
   "source": [
    "true_classes = testgen.classes\n",
    "class_indices = testgen.class_indices\n",
    "class_indices = dict((v,k) for k,v in class_indices.items())\n",
    "print(class_indices)"
   ]
  },
  {
   "cell_type": "code",
   "execution_count": 5,
   "metadata": {},
   "outputs": [],
   "source": [
    "model_path = 'inception_1_f.h5'\n",
    "model = load_model(model_path)"
   ]
  },
  {
   "cell_type": "code",
   "execution_count": 6,
   "metadata": {},
   "outputs": [],
   "source": [
    "from sklearn.metrics import accuracy_score"
   ]
  },
  {
   "cell_type": "code",
   "execution_count": 7,
   "metadata": {},
   "outputs": [],
   "source": [
    "inc_preds = model.predict(testgen)\n",
    "inc_pred_classes = np.argmax(inc_preds, axis=1)"
   ]
  },
  {
   "cell_type": "code",
   "execution_count": 8,
   "metadata": {},
   "outputs": [
    {
     "name": "stdout",
     "output_type": "stream",
     "text": [
      "Inceptionv3 Model 1 Accuracy with Fine-Tuning: 86.83%\n"
     ]
    }
   ],
   "source": [
    "inc_acc = accuracy_score(true_classes, inc_pred_classes)\n",
    "print(\"Inceptionv3 Model 1 Accuracy with Fine-Tuning: {:.2f}%\".format(inc_acc * 100))"
   ]
  },
  {
   "cell_type": "code",
   "execution_count": 10,
   "metadata": {},
   "outputs": [],
   "source": [
    "model_path2 = 'inception_2_f.h5'\n",
    "model2 = load_model(model_path2)"
   ]
  },
  {
   "cell_type": "code",
   "execution_count": 11,
   "metadata": {},
   "outputs": [],
   "source": [
    "inc_preds2 = model2.predict(testgen)\n",
    "inc_pred_classes2 = np.argmax(inc_preds2, axis=1)"
   ]
  },
  {
   "cell_type": "code",
   "execution_count": 12,
   "metadata": {},
   "outputs": [
    {
     "name": "stdout",
     "output_type": "stream",
     "text": [
      "Inceptionv3 Model 2 Accuracy without Fine-Tuning: 84.88%\n"
     ]
    }
   ],
   "source": [
    "inc_acc2 = accuracy_score(true_classes, inc_pred_classes2)\n",
    "print(\"Inceptionv3 Model 2 Accuracy without Fine-Tuning: {:.2f}%\".format(inc_acc2 * 100))"
   ]
  },
  {
   "cell_type": "code",
   "execution_count": 13,
   "metadata": {},
   "outputs": [],
   "source": [
    "model_path3 = 'inception_2_t.h5'\n",
    "model3 = load_model(model_path3)"
   ]
  },
  {
   "cell_type": "code",
   "execution_count": 14,
   "metadata": {},
   "outputs": [],
   "source": [
    "inc_preds3 = model3.predict(testgen)\n",
    "inc_pred_classes3 = np.argmax(inc_preds3, axis=1)"
   ]
  },
  {
   "cell_type": "code",
   "execution_count": 15,
   "metadata": {},
   "outputs": [
    {
     "name": "stdout",
     "output_type": "stream",
     "text": [
      "Inceptionv3 Model 2 Accuracy with Fine-Tuning: 88.78%\n"
     ]
    }
   ],
   "source": [
    "inc_acc3 = accuracy_score(true_classes, inc_pred_classes3)\n",
    "print(\"Inceptionv3 Model 2 Accuracy with Fine-Tuning: {:.2f}%\".format(inc_acc3 * 100))"
   ]
  },
  {
   "cell_type": "code",
   "execution_count": 16,
   "metadata": {},
   "outputs": [
    {
     "name": "stdout",
     "output_type": "stream",
     "text": [
      "dict_keys(['cardboard', 'ewaste', 'glass', 'metal', 'organic', 'paper', 'plastic'])\n"
     ]
    }
   ],
   "source": [
    "import seaborn as sns\n",
    "from sklearn.metrics import confusion_matrix\n",
    "class_names = testgen.class_indices.keys()\n",
    "print(class_names)"
   ]
  },
  {
   "cell_type": "code",
   "execution_count": 17,
   "metadata": {},
   "outputs": [],
   "source": [
    "def plot_heatmap(y_true, y_pred, class_names, ax, title):\n",
    "    cm = confusion_matrix(y_true, y_pred)\n",
    "    sns.heatmap(\n",
    "        cm, \n",
    "        annot=True, \n",
    "        square=True, \n",
    "        xticklabels=class_names, \n",
    "        yticklabels=class_names,\n",
    "        fmt='d', \n",
    "        cmap=plt.cm.Blues,\n",
    "        cbar=False,\n",
    "        ax=ax\n",
    "    )\n",
    "    ax.set_title(title, fontsize=16)\n",
    "    ax.set_xticklabels(ax.get_xticklabels(), rotation=45, ha=\"right\")\n",
    "    ax.set_ylabel('True Label', fontsize=12)\n",
    "    ax.set_xlabel('Predicted Label', fontsize=12)"
   ]
  },
  {
   "cell_type": "code",
   "execution_count": 19,
   "metadata": {},
   "outputs": [
    {
     "data": {
      "image/png": "[encoded data removed]",
      "text/plain": [
       "<Figure size 1440x720 with 3 Axes>"
      ]
     },
     "metadata": {
      "needs_background": "light"
     },
     "output_type": "display_data"
    }
   ],
   "source": [
    "import matplotlib.pyplot as plt\n",
    "fig, (ax1, ax2, ax3) = plt.subplots(1, 3, figsize=(20, 10))\n",
    "plot_heatmap(true_classes, inc_pred_classes, class_names, ax1, title=\"Inceptionv3 Model 1: No Fine Tuning\")    \n",
    "plot_heatmap(true_classes, inc_pred_classes2, class_names, ax2, title=\"Inceptionv3 Model 2: No Fine-Tuning\")    \n",
    "plot_heatmap(true_classes, inc_pred_classes3, class_names, ax3, title=\"Inceptionv3 Model 2: Fine Tuned\")    \n",
    "\n",
    "fig.suptitle(\"Confusion Matrix: Inceptionv3 Model Comparison\", fontsize=24)\n",
    "fig.tight_layout()\n",
    "fig.subplots_adjust(top=1.2)\n",
    "plt.show()"
   ]
  },
  {
   "cell_type": "markdown",
   "metadata": {},
   "source": [
    "Testing 5: MobileNetv2"
   ]
  },
  {
   "cell_type": "code",
   "execution_count": 2,
   "metadata": {},
   "outputs": [],
   "source": [
    "test_generator = ImageDataGenerator(preprocessing_function=tf.keras.applications.mobilenet_v2.preprocess_input)"
   ]
  },
  {
   "cell_type": "code",
   "execution_count": 3,
   "metadata": {},
   "outputs": [
    {
     "name": "stdout",
     "output_type": "stream",
     "text": [
      "Found 205 images belonging to 7 classes.\n"
     ]
    }
   ],
   "source": [
    "test_data_dir='Test-Waste'\n",
    "class_subset=['cardboard', 'ewaste', 'glass', 'metal','organic', 'paper', 'plastic']\n",
    "testgen = test_generator.flow_from_directory(test_data_dir,\n",
    "                                             target_size=(224, 224),\n",
    "                                             class_mode=None,\n",
    "                                             classes=class_subset,\n",
    "                                             batch_size=1,\n",
    "                                             shuffle=False,\n",
    "                                             seed=42)"
   ]
  },
  {
   "cell_type": "code",
   "execution_count": 4,
   "metadata": {},
   "outputs": [
    {
     "name": "stdout",
     "output_type": "stream",
     "text": [
      "{0: 'cardboard', 1: 'ewaste', 2: 'glass', 3: 'metal', 4: 'organic', 5: 'paper', 6: 'plastic'}\n"
     ]
    }
   ],
   "source": [
    "true_classes = testgen.classes\n",
    "class_indices = testgen.class_indices\n",
    "class_indices = dict((v,k) for k,v in class_indices.items())\n",
    "print(class_indices)"
   ]
  },
  {
   "cell_type": "code",
   "execution_count": 5,
   "metadata": {},
   "outputs": [],
   "source": [
    "model_path = 'mbnet_1_f.h5'\n",
    "model = load_model(model_path)"
   ]
  },
  {
   "cell_type": "code",
   "execution_count": 6,
   "metadata": {},
   "outputs": [],
   "source": [
    "from sklearn.metrics import accuracy_score"
   ]
  },
  {
   "cell_type": "code",
   "execution_count": 7,
   "metadata": {},
   "outputs": [],
   "source": [
    "mb_preds = model.predict(testgen)\n",
    "mb_pred_classes = np.argmax(mb_preds, axis=1)"
   ]
  },
  {
   "cell_type": "code",
   "execution_count": 9,
   "metadata": {},
   "outputs": [
    {
     "name": "stdout",
     "output_type": "stream",
     "text": [
      "MobileNetv2 Model 1 Accuracy without Fine-Tuning: 79.51%\n"
     ]
    }
   ],
   "source": [
    "mb_acc = accuracy_score(true_classes, mb_pred_classes)\n",
    "print(\"MobileNetv2 Model 1 Accuracy without Fine-Tuning: {:.2f}%\".format(mb_acc * 100))"
   ]
  },
  {
   "cell_type": "code",
   "execution_count": 10,
   "metadata": {},
   "outputs": [],
   "source": [
    "model_path2 = 'mbnet_1_t.h5'\n",
    "model2 = load_model(model_path2)"
   ]
  },
  {
   "cell_type": "code",
   "execution_count": 11,
   "metadata": {},
   "outputs": [],
   "source": [
    "mb_preds2 = model2.predict(testgen)\n",
    "mb_pred_classes2 = np.argmax(mb_preds2, axis=1)"
   ]
  },
  {
   "cell_type": "code",
   "execution_count": 12,
   "metadata": {},
   "outputs": [
    {
     "name": "stdout",
     "output_type": "stream",
     "text": [
      "MobileNetv2 Model 1 Accuracy with Fine-Tuning: 81.46%\n"
     ]
    }
   ],
   "source": [
    "mb_acc2 = accuracy_score(true_classes, mb_pred_classes2)\n",
    "print(\"MobileNetv2 Model 1 Accuracy with Fine-Tuning: {:.2f}%\".format(mb_acc2 * 100))"
   ]
  },
  {
   "cell_type": "code",
   "execution_count": 13,
   "metadata": {},
   "outputs": [],
   "source": [
    "model_path3 = 'mbnet_2_f.h5'\n",
    "model3 = load_model(model_path3)"
   ]
  },
  {
   "cell_type": "code",
   "execution_count": 14,
   "metadata": {},
   "outputs": [],
   "source": [
    "mb_preds3 = model3.predict(testgen)\n",
    "mb_pred_classes3 = np.argmax(mb_preds3, axis=1)"
   ]
  },
  {
   "cell_type": "code",
   "execution_count": 15,
   "metadata": {},
   "outputs": [
    {
     "name": "stdout",
     "output_type": "stream",
     "text": [
      "MobileNetv2 Model 2 Accuracy without Fine-Tuning: 80.00%\n"
     ]
    }
   ],
   "source": [
    "mb_acc3 = accuracy_score(true_classes, mb_pred_classes3)\n",
    "print(\"MobileNetv2 Model 2 Accuracy without Fine-Tuning: {:.2f}%\".format(mb_acc3 * 100))"
   ]
  },
  {
   "cell_type": "code",
   "execution_count": 16,
   "metadata": {},
   "outputs": [],
   "source": [
    "model_path4 = 'mbnet_2_t.h5'\n",
    "model4 = load_model(model_path4)"
   ]
  },
  {
   "cell_type": "code",
   "execution_count": 17,
   "metadata": {},
   "outputs": [],
   "source": [
    "mb_preds4 = model4.predict(testgen)\n",
    "mb_pred_classes4 = np.argmax(mb_preds4, axis=1)"
   ]
  },
  {
   "cell_type": "code",
   "execution_count": 18,
   "metadata": {},
   "outputs": [
    {
     "name": "stdout",
     "output_type": "stream",
     "text": [
      "MobileNetv2 Model 2 Accuracy with Fine-Tuning: 73.66%\n"
     ]
    }
   ],
   "source": [
    "mb_acc4 = accuracy_score(true_classes, mb_pred_classes4)\n",
    "print(\"MobileNetv2 Model 2 Accuracy with Fine-Tuning: {:.2f}%\".format(mb_acc4 * 100))"
   ]
  },
  {
   "cell_type": "code",
   "execution_count": 19,
   "metadata": {},
   "outputs": [
    {
     "name": "stdout",
     "output_type": "stream",
     "text": [
      "dict_keys(['cardboard', 'ewaste', 'glass', 'metal', 'organic', 'paper', 'plastic'])\n"
     ]
    }
   ],
   "source": [
    "import seaborn as sns\n",
    "from sklearn.metrics import confusion_matrix\n",
    "class_names = testgen.class_indices.keys()\n",
    "print(class_names)"
   ]
  },
  {
   "cell_type": "code",
   "execution_count": 20,
   "metadata": {},
   "outputs": [],
   "source": [
    "def plot_heatmap(y_true, y_pred, class_names, ax, title):\n",
    "    cm = confusion_matrix(y_true, y_pred)\n",
    "    sns.heatmap(\n",
    "        cm, \n",
    "        annot=True, \n",
    "        square=True, \n",
    "        xticklabels=class_names, \n",
    "        yticklabels=class_names,\n",
    "        fmt='d', \n",
    "        cmap=plt.cm.Blues,\n",
    "        cbar=False,\n",
    "        ax=ax\n",
    "    )\n",
    "    ax.set_title(title, fontsize=10)\n",
    "    ax.set_xticklabels(ax.get_xticklabels(), rotation=45, ha=\"right\")\n",
    "    ax.set_ylabel('True Label', fontsize=12)\n",
    "    ax.set_xlabel('Predicted Label', fontsize=12)"
   ]
  },
  {
   "cell_type": "code",
   "execution_count": 22,
   "metadata": {},
   "outputs": [
    {
     "data": {
      "image/png": "[encoded data removed]",
      "text/plain": [
       "<Figure size 720x360 with 2 Axes>"
      ]
     },
     "metadata": {
      "needs_background": "light"
     },
     "output_type": "display_data"
    }
   ],
   "source": [
    "import matplotlib.pyplot as plt\n",
    "fig, (ax1, ax2) = plt.subplots(1, 2, figsize=(10, 5))\n",
    "plot_heatmap(true_classes, mb_pred_classes, class_names, ax1, title=\"MobileNetv2 Model 1: No Fine Tuning\")    \n",
    "plot_heatmap(true_classes, mb_pred_classes2, class_names, ax2, title=\"MobileNetv2 Model 1: Fine-Tuned\")     \n",
    "\n",
    "fig.suptitle(\"Confusion Matrix: MobileNetv2 Model 1 Comparison\", fontsize=12)\n",
    "fig.tight_layout()\n",
    "fig.subplots_adjust(top=0.85)\n",
    "plt.show()"
   ]
  },
  {
   "cell_type": "code",
   "execution_count": 23,
   "metadata": {},
   "outputs": [
    {
     "data": {
      "image/png": "[encoded data removed]",
      "text/plain": [
       "<Figure size 720x360 with 2 Axes>"
      ]
     },
     "metadata": {
      "needs_background": "light"
     },
     "output_type": "display_data"
    }
   ],
   "source": [
    "fig, (ax1, ax2) = plt.subplots(1, 2, figsize=(10, 5))\n",
    "plot_heatmap(true_classes, mb_pred_classes3, class_names, ax1, title=\"MobileNetv2 Model 2: No Fine Tuning\")    \n",
    "plot_heatmap(true_classes, mb_pred_classes4, class_names, ax2, title=\"MobileNetv2 Model 2: Fine-Tuned\")     \n",
    "\n",
    "fig.suptitle(\"Confusion Matrix: MobileNetv2 Model 2 Comparison\", fontsize=12)\n",
    "fig.tight_layout()\n",
    "fig.subplots_adjust(top=0.85)\n",
    "plt.show()"
   ]
  },
  {
   "cell_type": "markdown",
   "metadata": {},
   "source": [
    "Testing 6: NASNetMobile"
   ]
  },
  {
   "cell_type": "code",
   "execution_count": 2,
   "metadata": {},
   "outputs": [],
   "source": [
    "test_generator = ImageDataGenerator(preprocessing_function=tf.keras.applications.nasnet.preprocess_input)"
   ]
  },
  {
   "cell_type": "code",
   "execution_count": 3,
   "metadata": {},
   "outputs": [
    {
     "name": "stdout",
     "output_type": "stream",
     "text": [
      "Found 205 images belonging to 7 classes.\n"
     ]
    }
   ],
   "source": [
    "test_data_dir='Test-Waste'\n",
    "class_subset=['cardboard', 'ewaste', 'glass', 'metal','organic', 'paper', 'plastic']\n",
    "testgen = test_generator.flow_from_directory(test_data_dir,\n",
    "                                             target_size=(224, 224),\n",
    "                                             class_mode=None,\n",
    "                                             classes=class_subset,\n",
    "                                             batch_size=1,\n",
    "                                             shuffle=False,\n",
    "                                             seed=42)"
   ]
  },
  {
   "cell_type": "code",
   "execution_count": 4,
   "metadata": {},
   "outputs": [
    {
     "name": "stdout",
     "output_type": "stream",
     "text": [
      "{0: 'cardboard', 1: 'ewaste', 2: 'glass', 3: 'metal', 4: 'organic', 5: 'paper', 6: 'plastic'}\n"
     ]
    }
   ],
   "source": [
    "true_classes = testgen.classes\n",
    "class_indices = testgen.class_indices\n",
    "class_indices = dict((v,k) for k,v in class_indices.items())\n",
    "print(class_indices)"
   ]
  },
  {
   "cell_type": "code",
   "execution_count": 6,
   "metadata": {},
   "outputs": [],
   "source": [
    "model_path = 'nasnetm_b32_f.h5'\n",
    "model = load_model(model_path)"
   ]
  },
  {
   "cell_type": "code",
   "execution_count": 5,
   "metadata": {},
   "outputs": [],
   "source": [
    "from sklearn.metrics import accuracy_score"
   ]
  },
  {
   "cell_type": "code",
   "execution_count": 8,
   "metadata": {},
   "outputs": [],
   "source": [
    "nas_preds = model.predict(testgen)\n",
    "nas_pred_classes = np.argmax(nas_preds, axis=1)"
   ]
  },
  {
   "cell_type": "code",
   "execution_count": 9,
   "metadata": {},
   "outputs": [
    {
     "name": "stdout",
     "output_type": "stream",
     "text": [
      "NASNetMobile Model 1 Accuracy without Fine-Tuning: 84.39%\n"
     ]
    }
   ],
   "source": [
    "nas_acc = accuracy_score(true_classes, nas_pred_classes)\n",
    "print(\"NASNetMobile Model 1 Accuracy without Fine-Tuning: {:.2f}%\".format(nas_acc * 100))"
   ]
  },
  {
   "cell_type": "code",
   "execution_count": 10,
   "metadata": {},
   "outputs": [],
   "source": [
    "model_path2 = 'nasnetm2_b32_f.h5'\n",
    "model2 = load_model(model_path2)"
   ]
  },
  {
   "cell_type": "code",
   "execution_count": 11,
   "metadata": {},
   "outputs": [],
   "source": [
    "nas_preds2 = model2.predict(testgen)\n",
    "nas_pred_classes2 = np.argmax(nas_preds2, axis=1)"
   ]
  },
  {
   "cell_type": "code",
   "execution_count": 12,
   "metadata": {},
   "outputs": [
    {
     "name": "stdout",
     "output_type": "stream",
     "text": [
      "NASNetMobile Model 2 Accuracy without Fine-Tuning: 84.88%\n"
     ]
    }
   ],
   "source": [
    "nas_acc2 = accuracy_score(true_classes, nas_pred_classes2)\n",
    "print(\"NASNetMobile Model 2 Accuracy without Fine-Tuning: {:.2f}%\".format(nas_acc2 * 100))"
   ]
  },
  {
   "cell_type": "code",
   "execution_count": 6,
   "metadata": {},
   "outputs": [],
   "source": [
    "model_path3 = 'nasnetm3_b32_f.h5'\n",
    "model3 = load_model(model_path3)"
   ]
  },
  {
   "cell_type": "code",
   "execution_count": 7,
   "metadata": {},
   "outputs": [],
   "source": [
    "nas_preds3 = model3.predict(testgen)\n",
    "nas_pred_classes3 = np.argmax(nas_preds3, axis=1)"
   ]
  },
  {
   "cell_type": "code",
   "execution_count": 8,
   "metadata": {},
   "outputs": [
    {
     "name": "stdout",
     "output_type": "stream",
     "text": [
      "NASNetMobile Model 3 Accuracy without Fine-Tuning: 86.34%\n"
     ]
    }
   ],
   "source": [
    "nas_acc3 = accuracy_score(true_classes, nas_pred_classes3)\n",
    "print(\"NASNetMobile Model 3 Accuracy without Fine-Tuning: {:.2f}%\".format(nas_acc3 * 100))"
   ]
  },
  {
   "cell_type": "code",
   "execution_count": 9,
   "metadata": {},
   "outputs": [],
   "source": [
    "model_path4 = 'nasnetm4_t.h5'\n",
    "model4 = load_model(model_path4)"
   ]
  },
  {
   "cell_type": "code",
   "execution_count": 17,
   "metadata": {},
   "outputs": [],
   "source": [
    "nas_preds4 = model4.predict(testgen)\n",
    "nas_pred_classes4 = np.argmax(nas_preds4, axis=1)"
   ]
  },
  {
   "cell_type": "code",
   "execution_count": 18,
   "metadata": {},
   "outputs": [
    {
     "name": "stdout",
     "output_type": "stream",
     "text": [
      "NASNetMobile Model 4 Accuracy with Fine-Tuning: 82.93%\n"
     ]
    }
   ],
   "source": [
    "nas_acc4 = accuracy_score(true_classes, nas_pred_classes4)\n",
    "print(\"NASNetMobile Model 4 Accuracy with Fine-Tuning: {:.2f}%\".format(nas_acc4 * 100))"
   ]
  },
  {
   "cell_type": "code",
   "execution_count": 19,
   "metadata": {},
   "outputs": [
    {
     "name": "stdout",
     "output_type": "stream",
     "text": [
      "dict_keys(['cardboard', 'ewaste', 'glass', 'metal', 'organic', 'paper', 'plastic'])\n"
     ]
    }
   ],
   "source": [
    "import seaborn as sns\n",
    "from sklearn.metrics import confusion_matrix\n",
    "class_names = testgen.class_indices.keys()\n",
    "print(class_names)"
   ]
  },
  {
   "cell_type": "code",
   "execution_count": 20,
   "metadata": {},
   "outputs": [],
   "source": [
    "def plot_heatmap(y_true, y_pred, class_names, ax, title):\n",
    "    cm = confusion_matrix(y_true, y_pred)\n",
    "    sns.heatmap(\n",
    "        cm, \n",
    "        annot=True, \n",
    "        square=True, \n",
    "        xticklabels=class_names, \n",
    "        yticklabels=class_names,\n",
    "        fmt='d', \n",
    "        cmap=plt.cm.Blues,\n",
    "        cbar=False,\n",
    "        ax=ax\n",
    "    )\n",
    "    ax.set_title(title, fontsize=10)\n",
    "    ax.set_xticklabels(ax.get_xticklabels(), rotation=45, ha=\"right\")\n",
    "    ax.set_ylabel('True Label', fontsize=12)\n",
    "    ax.set_xlabel('Predicted Label', fontsize=12)"
   ]
  },
  {
   "cell_type": "code",
   "execution_count": 21,
   "metadata": {},
   "outputs": [
    {
     "data": {
      "image/png": "[encoded data removed]",
      "text/plain": [
       "<Figure size 720x360 with 2 Axes>"
      ]
     },
     "metadata": {
      "needs_background": "light"
     },
     "output_type": "display_data"
    }
   ],
   "source": [
    "import matplotlib.pyplot as plt\n",
    "fig, (ax1, ax2) = plt.subplots(1, 2, figsize=(10, 5))\n",
    "plot_heatmap(true_classes, nas_pred_classes, class_names, ax1, title=\"NASNetMobile Model 1: No Fine Tuning\")    \n",
    "plot_heatmap(true_classes, nas_pred_classes2, class_names, ax2, title=\"NASNetMobile Model 2: No Fine Tuning\")     \n",
    "\n",
    "fig.suptitle(\"Confusion Matrix: NASNetMobile Model Comparison\", fontsize=12)\n",
    "fig.tight_layout()\n",
    "fig.subplots_adjust(top=0.85)\n",
    "plt.show()"
   ]
  },
  {
   "cell_type": "code",
   "execution_count": 22,
   "metadata": {},
   "outputs": [
    {
     "data": {
      "image/png": "[encoded data removed]",
      "text/plain": [
       "<Figure size 720x360 with 2 Axes>"
      ]
     },
     "metadata": {
      "needs_background": "light"
     },
     "output_type": "display_data"
    }
   ],
   "source": [
    "fig, (ax1, ax2) = plt.subplots(1, 2, figsize=(10, 5))\n",
    "plot_heatmap(true_classes, nas_pred_classes3, class_names, ax1, title=\"NASNetMobile Model 3: No Fine Tuning\")    \n",
    "plot_heatmap(true_classes, nas_pred_classes4, class_names, ax2, title=\"NASNetMobile Model 4: Fine Tuned\")     \n",
    "\n",
    "fig.tight_layout()\n",
    "fig.subplots_adjust(top=0.85)\n",
    "plt.show()"
   ]
  },
  {
   "cell_type": "markdown",
   "metadata": {},
   "source": [
    "Printing Confusion Report"
   ]
  },
  {
   "cell_type": "code",
   "execution_count": 1,
   "metadata": {},
   "outputs": [],
   "source": [
    "import numpy as np\n",
    "import tensorflow as tf\n",
    "from tensorflow import keras\n",
    "from tensorflow.keras.preprocessing.image import ImageDataGenerator\n",
    "from tensorflow.keras.models import load_model\n",
    "from sklearn.metrics import classification_report, confusion_matrix"
   ]
  },
  {
   "cell_type": "code",
   "execution_count": 2,
   "metadata": {},
   "outputs": [],
   "source": [
    "test_generator = ImageDataGenerator(preprocessing_function=tf.keras.applications.vgg16.preprocess_input)"
   ]
  },
  {
   "cell_type": "code",
   "execution_count": 3,
   "metadata": {},
   "outputs": [
    {
     "name": "stdout",
     "output_type": "stream",
     "text": [
      "Found 205 images belonging to 7 classes.\n"
     ]
    }
   ],
   "source": [
    "test_data_dir='Test-Waste'\n",
    "class_subset=['cardboard', 'ewaste', 'glass', 'metal','organic', 'paper', 'plastic']\n",
    "testgen = test_generator.flow_from_directory(test_data_dir,\n",
    "                                             target_size=(224, 224),\n",
    "                                             class_mode=None,\n",
    "                                             classes=class_subset,\n",
    "                                             batch_size=1,\n",
    "                                             shuffle=False,\n",
    "                                             seed=42)"
   ]
  },
  {
   "cell_type": "code",
   "execution_count": 4,
   "metadata": {},
   "outputs": [
    {
     "name": "stdout",
     "output_type": "stream",
     "text": [
      "{0: 'cardboard', 1: 'ewaste', 2: 'glass', 3: 'metal', 4: 'organic', 5: 'paper', 6: 'plastic'}\n"
     ]
    }
   ],
   "source": [
    "true_classes = testgen.classes\n",
    "class_indices = testgen.class_indices\n",
    "class_indices = dict((v,k) for k,v in class_indices.items())\n",
    "print(class_indices)"
   ]
  },
  {
   "cell_type": "code",
   "execution_count": 5,
   "metadata": {},
   "outputs": [],
   "source": [
    "model_path = 'vgg16_b32_f.h5'\n",
    "model = load_model(model_path)"
   ]
  },
  {
   "cell_type": "code",
   "execution_count": 6,
   "metadata": {},
   "outputs": [],
   "source": [
    "from sklearn.metrics import accuracy_score"
   ]
  },
  {
   "cell_type": "code",
   "execution_count": 7,
   "metadata": {},
   "outputs": [],
   "source": [
    "vgg_preds = model.predict(testgen)\n",
    "vgg_pred_classes = np.argmax(vgg_preds, axis=1)"
   ]
  },
  {
   "cell_type": "code",
   "execution_count": 8,
   "metadata": {},
   "outputs": [
    {
     "name": "stdout",
     "output_type": "stream",
     "text": [
      "VGG16 Model 1 Accuracy without Fine-Tuning: 96.59%\n"
     ]
    }
   ],
   "source": [
    "vgg_acc = accuracy_score(true_classes, vgg_pred_classes)\n",
    "print(\"VGG16 Model 1 Accuracy without Fine-Tuning: {:.2f}%\".format(vgg_acc * 100))"
   ]
  },
  {
   "cell_type": "code",
   "execution_count": 10,
   "metadata": {},
   "outputs": [],
   "source": [
    "def plot_heatmap(y_true, y_pred, class_names, ax, title):\n",
    "    cm = confusion_matrix(y_true, y_pred)\n",
    "    sns.heatmap(\n",
    "        cm, \n",
    "        annot=True, \n",
    "        square=True, \n",
    "        xticklabels=class_names, \n",
    "        yticklabels=class_names,\n",
    "        fmt='d', \n",
    "        cmap=plt.cm.Blues,\n",
    "        cbar=False,\n",
    "        ax=ax\n",
    "    )\n",
    "    ax.set_title(title, fontsize=10)\n",
    "    ax.set_xticklabels(ax.get_xticklabels(), rotation=45, ha=\"right\")\n",
    "    ax.set_ylabel('True Label', fontsize=12)\n",
    "    ax.set_xlabel('Predicted Label', fontsize=12)"
   ]
  },
  {
   "cell_type": "code",
   "execution_count": 11,
   "metadata": {},
   "outputs": [
    {
     "name": "stdout",
     "output_type": "stream",
     "text": [
      "dict_keys(['cardboard', 'ewaste', 'glass', 'metal', 'organic', 'paper', 'plastic'])\n"
     ]
    }
   ],
   "source": [
    "import seaborn as sns\n",
    "class_names = testgen.class_indices.keys()\n",
    "print(class_names)"
   ]
  },
  {
   "cell_type": "code",
   "execution_count": 19,
   "metadata": {},
   "outputs": [
    {
     "data": {
      "image/png": "[encoded data removed]",
      "text/plain": [
       "<Figure size 360x360 with 1 Axes>"
      ]
     },
     "metadata": {
      "needs_background": "light"
     },
     "output_type": "display_data"
    }
   ],
   "source": [
    "import matplotlib.pyplot as plt\n",
    "fig, (ax1) = plt.subplots(1, 1, figsize=(5, 5))\n",
    "plot_heatmap(true_classes, vgg_pred_classes, class_names, ax1, title=\"VGG16 Model 1: No Fine Tuning\")      \n",
    "\n",
    "fig.tight_layout()\n",
    "fig.subplots_adjust(top=1)\n",
    "plt.show()"
   ]
  },
  {
   "cell_type": "code",
   "execution_count": 20,
   "metadata": {},
   "outputs": [],
   "source": [
    "test_labels = true_classes"
   ]
  },
  {
   "cell_type": "code",
   "execution_count": 21,
   "metadata": {},
   "outputs": [
    {
     "name": "stdout",
     "output_type": "stream",
     "text": [
      "[[27  0  0  1  0  1  1]\n",
      " [ 0 30  0  0  0  0  0]\n",
      " [ 0  0 29  1  0  0  0]\n",
      " [ 0  0  0 30  0  0  0]\n",
      " [ 0  0  0  0 30  0  0]\n",
      " [ 1  0  0  0  1 23  0]\n",
      " [ 1  0  0  0  0  0 29]]\n"
     ]
    }
   ],
   "source": [
    "cm = confusion_matrix(test_labels, vgg_pred_classes)\n",
    "cm_plot_labels = ['cardboard', 'ewaste', 'glass', 'metal','organic', 'paper', 'plastic']\n",
    "print(cm)"
   ]
  },
  {
   "cell_type": "code",
   "execution_count": 22,
   "metadata": {},
   "outputs": [
    {
     "name": "stdout",
     "output_type": "stream",
     "text": [
      "              precision    recall  f1-score   support\n",
      "\n",
      "   cardboard       0.93      0.90      0.92        30\n",
      "      ewaste       1.00      1.00      1.00        30\n",
      "       glass       1.00      0.97      0.98        30\n",
      "       metal       0.94      1.00      0.97        30\n",
      "     organic       0.97      1.00      0.98        30\n",
      "       paper       0.96      0.92      0.94        25\n",
      "     plastic       0.97      0.97      0.97        30\n",
      "\n",
      "    accuracy                           0.97       205\n",
      "   macro avg       0.97      0.96      0.97       205\n",
      "weighted avg       0.97      0.97      0.97       205\n",
      "\n"
     ]
    }
   ],
   "source": [
    "print(classification_report(test_labels, vgg_pred_classes , target_names=cm_plot_labels))"
   ]
  },
  {
   "cell_type": "code",
   "execution_count": 6,
   "metadata": {},
   "outputs": [
    {
     "name": "stdout",
     "output_type": "stream",
     "text": [
      "WARNING:tensorflow:From <ipython-input-6-f84fe935cd65>:3: Model.predict_generator (from tensorflow.python.keras.engine.training) is deprecated and will be removed in a future version.\n",
      "Instructions for updating:\n",
      "Please use Model.predict, which supports generators.\n",
      "205/205 [==============================] - 65s 319ms/step\n"
     ]
    }
   ],
   "source": [
    "#1:https://www.kaggle.com/filmer2002/ss-garbage\n",
    "test_labels = true_classes\n",
    "predictions = model.predict_generator(testgen, verbose=1)"
   ]
  },
  {
   "cell_type": "code",
   "execution_count": 7,
   "metadata": {},
   "outputs": [
    {
     "name": "stdout",
     "output_type": "stream",
     "text": [
      "[[27  0  0  0  1  2  0]\n",
      " [ 1 28  0  0  0  0  1]\n",
      " [ 2  0 26  0  0  0  2]\n",
      " [ 0  0  2 21  1  1  5]\n",
      " [ 0  0  0  1 29  0  0]\n",
      " [ 3  0  0  0  1 20  1]\n",
      " [ 1  1  1  0  0  0 27]]\n"
     ]
    }
   ],
   "source": [
    "cm = confusion_matrix(test_labels, predictions.argmax(axis=1))\n",
    "cm_plot_labels = ['cardboard', 'ewaste', 'glass', 'metal','organic', 'paper', 'plastic']\n",
    "print(cm)"
   ]
  },
  {
   "cell_type": "code",
   "execution_count": 8,
   "metadata": {},
   "outputs": [
    {
     "name": "stdout",
     "output_type": "stream",
     "text": [
      "              precision    recall  f1-score   support\n",
      "\n",
      "   cardboard       0.79      0.90      0.84        30\n",
      "      ewaste       0.97      0.93      0.95        30\n",
      "       glass       0.90      0.87      0.88        30\n",
      "       metal       0.95      0.70      0.81        30\n",
      "     organic       0.91      0.97      0.94        30\n",
      "       paper       0.87      0.80      0.83        25\n",
      "     plastic       0.75      0.90      0.82        30\n",
      "\n",
      "    accuracy                           0.87       205\n",
      "   macro avg       0.88      0.87      0.87       205\n",
      "weighted avg       0.88      0.87      0.87       205\n",
      "\n"
     ]
    }
   ],
   "source": [
    "print(classification_report(test_labels, predictions.argmax(axis=1), target_names=cm_plot_labels))"
   ]
  },
  {
   "cell_type": "markdown",
   "metadata": {},
   "source": [
    "Testing 7: CNN"
   ]
  },
  {
   "cell_type": "code",
   "execution_count": null,
   "metadata": {},
   "outputs": [],
   "source": [
    "test_generator = ImageDataGenerator(rescale=1./255)"
   ]
  },
  {
   "cell_type": "code",
   "execution_count": null,
   "metadata": {},
   "outputs": [],
   "source": [
    "test_data_dir='Test-Waste'\n",
    "class_subset=['cardboard', 'ewaste', 'glass', 'metal','organic', 'paper', 'plastic']\n",
    "testgen = test_generator.flow_from_directory(test_data_dir,\n",
    "                                             target_size=(224, 224),\n",
    "                                             class_mode=None,\n",
    "                                             classes=class_subset,\n",
    "                                             batch_size=1,\n",
    "                                             shuffle=False,\n",
    "                                             seed=42)"
   ]
  },
  {
   "cell_type": "code",
   "execution_count": null,
   "metadata": {},
   "outputs": [],
   "source": [
    "true_classes = testgen.classes\n",
    "class_indices = testgen.class_indices\n",
    "class_indices = dict((v,k) for k,v in class_indices.items())\n",
    "print(class_indices)"
   ]
  },
  {
   "cell_type": "code",
   "execution_count": null,
   "metadata": {},
   "outputs": [],
   "source": [
    "model_path = 'cnn_1.h5'\n",
    "model = load_model(model_path)"
   ]
  },
  {
   "cell_type": "code",
   "execution_count": null,
   "metadata": {},
   "outputs": [],
   "source": [
    "from sklearn.metrics import accuracy_score"
   ]
  },
  {
   "cell_type": "code",
   "execution_count": null,
   "metadata": {},
   "outputs": [],
   "source": [
    "cnn_preds = model.predict(testgen)\n",
    "cnn_pred_classes = np.argmax(cnn_preds, axis=1)"
   ]
  },
  {
   "cell_type": "code",
   "execution_count": null,
   "metadata": {},
   "outputs": [],
   "source": [
    "cnn_acc = accuracy_score(true_classes, cnn_pred_classes)\n",
    "print(\"NASNetMobile Model 1 Accuracy without Fine-Tuning: {:.2f}%\".format(cnn_acc * 100))"
   ]
  },
  {
   "cell_type": "code",
   "execution_count": 1,
   "metadata": {},
   "outputs": [],
   "source": [
    "import requests"
   ]
  },
  {
   "cell_type": "code",
   "execution_count": 3,
   "metadata": {},
   "outputs": [],
   "source": [
    "import json"
   ]
  },
  {
   "cell_type": "code",
   "execution_count": 3,
   "metadata": {},
   "outputs": [
    {
     "name": "stdout",
     "output_type": "stream",
     "text": [
      "plastic\n"
     ]
    }
   ],
   "source": [
    "post_url = \"http://127.0.0.1:5000/process\"\n",
    "input_image = {\"img\": open(\"test3.jpg\", \"rb\")}\n",
    "response_1 = requests.post(post_url, files=input_image)\n",
    "print(response_1.text)"
   ]
  },
  {
   "cell_type": "code",
   "execution_count": 5,
   "metadata": {},
   "outputs": [
    {
     "name": "stdout",
     "output_type": "stream",
     "text": [
      "glass\n"
     ]
    }
   ],
   "source": [
    "url = \"http://127.0.0.1:5000/process\"\n",
    "filess = {\"img\": open(\"test2.jpg\", \"rb\")}\n",
    "results = requests.post(url, files=filess)\n",
    "print(results.text)"
   ]
  },
  {
   "cell_type": "code",
   "execution_count": 5,
   "metadata": {},
   "outputs": [
    {
     "name": "stdout",
     "output_type": "stream",
     "text": [
      "ewaste\n"
     ]
    }
   ],
   "source": [
    "import requests\n",
    "url = \"https://cnn-flask-try.herokuapp.com/process\"\n",
    "filess = {\"img\": open(\"test1.jpg\", \"rb\")}\n",
    "results = requests.post(url, files=filess)\n",
    "print(results.text)"
   ]
  },
  {
   "cell_type": "code",
   "execution_count": 3,
   "metadata": {},
   "outputs": [
    {
     "name": "stdout",
     "output_type": "stream",
     "text": [
      "glass\n"
     ]
    }
   ],
   "source": [
    "post_url = \"https://cnn-flask-try.herokuapp.com/process\"\n",
    "input_image = {\"img\": open(\"test2.jpg\", \"rb\")}\n",
    "response_1 = requests.post(post_url, files=input_image)\n",
    "print(response_1.text)"
   ]
  },
  {
   "cell_type": "code",
   "execution_count": 15,
   "metadata": {},
   "outputs": [
    {
     "name": "stdout",
     "output_type": "stream",
     "text": [
      "\"plastic\"\n"
     ]
    }
   ],
   "source": [
    "#FastAPI\n",
    "url = \"http://127.0.0.1:8000/predict\"\n",
    "filess = {\"file\": open(\"test4.jpg\", \"rb\")}\n",
    "results = requests.post(url, files=filess)\n",
    "print(results.text)"
   ]
  },
  {
   "cell_type": "code",
   "execution_count": 14,
   "metadata": {},
   "outputs": [
    {
     "data": {
      "image/png": "[encoded data removed]",
      "text/plain": [
       "<Figure size 360x360 with 1 Axes>"
      ]
     },
     "metadata": {
      "needs_background": "light"
     },
     "output_type": "display_data"
    }
   ],
   "source": [
    "#Update-Report\n",
    "#NASNetMobile\n",
    "import matplotlib.pyplot as plt\n",
    "fig, (ax1) = plt.subplots(1, 1, figsize=(5, 5))\n",
    "plot_heatmap(true_classes, nas_pred_classes3, class_names, ax1, title=\"NASNetMobile Model: No Fine Tuning\")      \n",
    "\n",
    "fig.tight_layout()\n",
    "fig.subplots_adjust(top=1)\n",
    "plt.show()"
   ]
  },
  {
   "cell_type": "code",
   "execution_count": 19,
   "metadata": {},
   "outputs": [
    {
     "name": "stdout",
     "output_type": "stream",
     "text": [
      "[[26  0  0  0  0  4  0]\n",
      " [ 0 25  2  0  0  1  2]\n",
      " [ 0  0 29  0  0  0  1]\n",
      " [ 0  0  3 23  0  2  2]\n",
      " [ 0  0  0  0 28  2  0]\n",
      " [ 2  0  0  0  0 22  1]\n",
      " [ 0  0  2  0  1  3 24]]\n"
     ]
    }
   ],
   "source": [
    "test_labels = true_classes\n",
    "cm = confusion_matrix(test_labels, nas_pred_classes3)\n",
    "cm_plot_labels = ['cardboard', 'ewaste', 'glass', 'metal','organic', 'paper', 'plastic']\n",
    "print(cm)"
   ]
  },
  {
   "cell_type": "code",
   "execution_count": 21,
   "metadata": {},
   "outputs": [
    {
     "name": "stdout",
     "output_type": "stream",
     "text": [
      "              precision    recall  f1-score   support\n",
      "\n",
      "   cardboard       0.93      0.87      0.90        30\n",
      "      ewaste       1.00      0.83      0.91        30\n",
      "       glass       0.81      0.97      0.88        30\n",
      "       metal       1.00      0.77      0.87        30\n",
      "     organic       0.97      0.93      0.95        30\n",
      "       paper       0.65      0.88      0.75        25\n",
      "     plastic       0.80      0.80      0.80        30\n",
      "\n",
      "    accuracy                           0.86       205\n",
      "   macro avg       0.88      0.86      0.86       205\n",
      "weighted avg       0.88      0.86      0.87       205\n",
      "\n"
     ]
    }
   ],
   "source": [
    "from sklearn.metrics import classification_report\n",
    "print(classification_report(test_labels, nas_pred_classes3 , target_names=cm_plot_labels))"
   ]
  },
  {
   "cell_type": "code",
   "execution_count": 35,
   "metadata": {},
   "outputs": [],
   "source": [
    "#Densenet\n",
    "model_path2 = 'Dense_1_t.h5'\n",
    "model2 = load_model(model_path2)"
   ]
  },
  {
   "cell_type": "code",
   "execution_count": 36,
   "metadata": {},
   "outputs": [],
   "source": [
    "dense_preds2 = model2.predict(testgen)\n",
    "dense_pred_classes2 = np.argmax(dense_preds2, axis=1)"
   ]
  },
  {
   "cell_type": "code",
   "execution_count": 37,
   "metadata": {},
   "outputs": [
    {
     "name": "stdout",
     "output_type": "stream",
     "text": [
      "DenseNet Model Accuracy with Fine-Tuning: 87.32%\n"
     ]
    }
   ],
   "source": [
    "dense_acc2 = accuracy_score(true_classes, dense_pred_classes2)\n",
    "print(\"DenseNet Model Accuracy with Fine-Tuning: {:.2f}%\".format(dense_acc2 * 100))"
   ]
  },
  {
   "cell_type": "code",
   "execution_count": 38,
   "metadata": {},
   "outputs": [
    {
     "data": {
      "image/png": "[encoded data removed]",
      "text/plain": [
       "<Figure size 360x360 with 1 Axes>"
      ]
     },
     "metadata": {
      "needs_background": "light"
     },
     "output_type": "display_data"
    }
   ],
   "source": [
    "fig, (ax1) = plt.subplots(1, 1, figsize=(5, 5))\n",
    "plot_heatmap(true_classes, dense_pred_classes2, class_names, ax1, title=\"DenseNet121 Model: Fine Tuned\")      \n",
    "\n",
    "fig.tight_layout()\n",
    "fig.subplots_adjust(top=1)\n",
    "plt.show()"
   ]
  },
  {
   "cell_type": "code",
   "execution_count": 42,
   "metadata": {},
   "outputs": [
    {
     "name": "stdout",
     "output_type": "stream",
     "text": [
      "[[27  0  0  0  0  3  0]\n",
      " [ 1 26  0  0  0  1  2]\n",
      " [ 0  0 26  0  0  0  4]\n",
      " [ 1  0  1 23  0  0  5]\n",
      " [ 1  0  0  0 29  0  0]\n",
      " [ 0  0  1  0  0 24  0]\n",
      " [ 1  0  3  0  0  2 24]]\n"
     ]
    }
   ],
   "source": [
    "test_labels = true_classes\n",
    "cm = confusion_matrix(test_labels, dense_pred_classes2)\n",
    "cm_plot_labels = ['cardboard', 'ewaste', 'glass', 'metal','organic', 'paper', 'plastic']\n",
    "print(cm)"
   ]
  },
  {
   "cell_type": "code",
   "execution_count": 43,
   "metadata": {},
   "outputs": [
    {
     "name": "stdout",
     "output_type": "stream",
     "text": [
      "              precision    recall  f1-score   support\n",
      "\n",
      "   cardboard       0.87      0.90      0.89        30\n",
      "      ewaste       1.00      0.87      0.93        30\n",
      "       glass       0.84      0.87      0.85        30\n",
      "       metal       1.00      0.77      0.87        30\n",
      "     organic       1.00      0.97      0.98        30\n",
      "       paper       0.80      0.96      0.87        25\n",
      "     plastic       0.69      0.80      0.74        30\n",
      "\n",
      "    accuracy                           0.87       205\n",
      "   macro avg       0.89      0.88      0.88       205\n",
      "weighted avg       0.89      0.87      0.88       205\n",
      "\n"
     ]
    }
   ],
   "source": [
    "print(classification_report(test_labels, dense_pred_classes2 , target_names=cm_plot_labels))"
   ]
  },
  {
   "cell_type": "code",
   "execution_count": 25,
   "metadata": {},
   "outputs": [],
   "source": [
    "#VGG\n",
    "model_path = 'vgg16_b32_f.h5'\n",
    "model = load_model(model_path)"
   ]
  },
  {
   "cell_type": "code",
   "execution_count": 30,
   "metadata": {},
   "outputs": [],
   "source": [
    "vgg_preds = model.predict(testgen)\n",
    "vgg_pred_classes = np.argmax(vgg_preds, axis=1)"
   ]
  },
  {
   "cell_type": "code",
   "execution_count": 31,
   "metadata": {},
   "outputs": [
    {
     "name": "stdout",
     "output_type": "stream",
     "text": [
      "VGG16 Model 1 Accuracy without Fine-Tuning: 96.59%\n"
     ]
    }
   ],
   "source": [
    "vgg_acc = accuracy_score(true_classes, vgg_pred_classes)\n",
    "print(\"VGG16 Model 1 Accuracy without Fine-Tuning: {:.2f}%\".format(vgg_acc * 100))"
   ]
  },
  {
   "cell_type": "code",
   "execution_count": 32,
   "metadata": {},
   "outputs": [
    {
     "data": {
      "image/png": "[encoded data removed]",
      "text/plain": [
       "<Figure size 360x360 with 1 Axes>"
      ]
     },
     "metadata": {
      "needs_background": "light"
     },
     "output_type": "display_data"
    }
   ],
   "source": [
    "fig, (ax1) = plt.subplots(1, 1, figsize=(5, 5))\n",
    "plot_heatmap(true_classes, vgg_pred_classes, class_names, ax1, title=\"VGG16 Model: No Fine Tuning\")      \n",
    "\n",
    "fig.tight_layout()\n",
    "fig.subplots_adjust(top=1)\n",
    "plt.show()"
   ]
  },
  {
   "cell_type": "code",
   "execution_count": 39,
   "metadata": {},
   "outputs": [
    {
     "name": "stdout",
     "output_type": "stream",
     "text": [
      "[[27  0  0  1  0  1  1]\n",
      " [ 0 30  0  0  0  0  0]\n",
      " [ 0  0 29  1  0  0  0]\n",
      " [ 0  0  0 30  0  0  0]\n",
      " [ 0  0  0  0 30  0  0]\n",
      " [ 1  0  0  0  1 23  0]\n",
      " [ 1  0  0  0  0  0 29]]\n"
     ]
    }
   ],
   "source": [
    "test_labels = true_classes\n",
    "cm = confusion_matrix(test_labels, vgg_pred_classes)\n",
    "cm_plot_labels = ['cardboard', 'ewaste', 'glass', 'metal','organic', 'paper', 'plastic']\n",
    "print(cm)"
   ]
  },
  {
   "cell_type": "code",
   "execution_count": 41,
   "metadata": {},
   "outputs": [
    {
     "name": "stdout",
     "output_type": "stream",
     "text": [
      "              precision    recall  f1-score   support\n",
      "\n",
      "   cardboard       0.93      0.90      0.92        30\n",
      "      ewaste       1.00      1.00      1.00        30\n",
      "       glass       1.00      0.97      0.98        30\n",
      "       metal       0.94      1.00      0.97        30\n",
      "     organic       0.97      1.00      0.98        30\n",
      "       paper       0.96      0.92      0.94        25\n",
      "     plastic       0.97      0.97      0.97        30\n",
      "\n",
      "    accuracy                           0.97       205\n",
      "   macro avg       0.97      0.96      0.97       205\n",
      "weighted avg       0.97      0.97      0.97       205\n",
      "\n"
     ]
    }
   ],
   "source": [
    "print(classification_report(test_labels, vgg_pred_classes , target_names=cm_plot_labels))"
   ]
  },
  {
   "cell_type": "code",
   "execution_count": 46,
   "metadata": {},
   "outputs": [],
   "source": [
    "#Inception\n",
    "model_path3 = 'inception_2_t.h5'\n",
    "model3 = load_model(model_path3)"
   ]
  },
  {
   "cell_type": "code",
   "execution_count": 47,
   "metadata": {},
   "outputs": [],
   "source": [
    "inc_preds3 = model3.predict(testgen)\n",
    "inc_pred_classes3 = np.argmax(inc_preds3, axis=1)"
   ]
  },
  {
   "cell_type": "code",
   "execution_count": 48,
   "metadata": {},
   "outputs": [
    {
     "name": "stdout",
     "output_type": "stream",
     "text": [
      "Inceptionv3 Model 2 Accuracy with Fine-Tuning: 88.78%\n"
     ]
    }
   ],
   "source": [
    "inc_acc3 = accuracy_score(true_classes, inc_pred_classes3)\n",
    "print(\"Inceptionv3 Model 2 Accuracy with Fine-Tuning: {:.2f}%\".format(inc_acc3 * 100))"
   ]
  },
  {
   "cell_type": "code",
   "execution_count": 50,
   "metadata": {},
   "outputs": [
    {
     "data": {
      "image/png": "[encoded data removed]",
      "text/plain": [
       "<Figure size 360x360 with 1 Axes>"
      ]
     },
     "metadata": {
      "needs_background": "light"
     },
     "output_type": "display_data"
    }
   ],
   "source": [
    "fig, (ax1) = plt.subplots(1, 1, figsize=(5, 5))\n",
    "plot_heatmap(true_classes, inc_pred_classes3, class_names, ax1, title=\"Incepionv3 Model: Fine Tuned\")      \n",
    "\n",
    "fig.tight_layout()\n",
    "fig.subplots_adjust(top=1)\n",
    "plt.show()"
   ]
  },
  {
   "cell_type": "code",
   "execution_count": 51,
   "metadata": {},
   "outputs": [
    {
     "name": "stdout",
     "output_type": "stream",
     "text": [
      "[[29  0  0  1  0  0  0]\n",
      " [ 0 27  1  1  0  1  0]\n",
      " [ 2  0 23  2  1  1  1]\n",
      " [ 0  0  0 29  0  1  0]\n",
      " [ 1  0  0  0 29  0  0]\n",
      " [ 2  0  0  2  0 21  0]\n",
      " [ 1  1  1  0  0  3 24]]\n"
     ]
    }
   ],
   "source": [
    "test_labels = true_classes\n",
    "cm = confusion_matrix(test_labels, inc_pred_classes3)\n",
    "cm_plot_labels = ['cardboard', 'ewaste', 'glass', 'metal','organic', 'paper', 'plastic']\n",
    "print(cm)"
   ]
  },
  {
   "cell_type": "code",
   "execution_count": 52,
   "metadata": {},
   "outputs": [
    {
     "name": "stdout",
     "output_type": "stream",
     "text": [
      "              precision    recall  f1-score   support\n",
      "\n",
      "   cardboard       0.83      0.97      0.89        30\n",
      "      ewaste       0.96      0.90      0.93        30\n",
      "       glass       0.92      0.77      0.84        30\n",
      "       metal       0.83      0.97      0.89        30\n",
      "     organic       0.97      0.97      0.97        30\n",
      "       paper       0.78      0.84      0.81        25\n",
      "     plastic       0.96      0.80      0.87        30\n",
      "\n",
      "    accuracy                           0.89       205\n",
      "   macro avg       0.89      0.89      0.89       205\n",
      "weighted avg       0.90      0.89      0.89       205\n",
      "\n"
     ]
    }
   ],
   "source": [
    "print(classification_report(test_labels, inc_pred_classes3 , target_names=cm_plot_labels))"
   ]
  },
  {
   "cell_type": "code",
   "execution_count": null,
   "metadata": {},
   "outputs": [],
   "source": []
  }
 ],
 "metadata": {
  "kernelspec": {
   "display_name": "Python 3",
   "language": "python",
   "name": "python3"
  },
  "language_info": {
   "codemirror_mode": {
    "name": "ipython",
    "version": 3
   },
   "file_extension": ".py",
   "mimetype": "text/x-python",
   "name": "python",
   "nbconvert_exporter": "python",
   "pygments_lexer": "ipython3",
   "version": "3.7.9"
  }
 },
 "nbformat": 4,
 "nbformat_minor": 4
}
